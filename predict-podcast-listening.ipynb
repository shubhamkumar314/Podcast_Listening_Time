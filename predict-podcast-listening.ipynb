{
 "cells": [
  {
   "cell_type": "code",
   "execution_count": 1,
   "id": "5f1039aa",
   "metadata": {
    "_cell_guid": "b1076dfc-b9ad-4769-8c92-a6c4dae69d19",
    "_uuid": "8f2839f25d086af736a60e9eeb907d3b93b6e0e5",
    "execution": {
     "iopub.execute_input": "2025-04-11T15:08:42.736631Z",
     "iopub.status.busy": "2025-04-11T15:08:42.735977Z",
     "iopub.status.idle": "2025-04-11T15:08:44.141577Z",
     "shell.execute_reply": "2025-04-11T15:08:44.140516Z"
    },
    "papermill": {
     "duration": 1.413546,
     "end_time": "2025-04-11T15:08:44.142918",
     "exception": false,
     "start_time": "2025-04-11T15:08:42.729372",
     "status": "completed"
    },
    "tags": []
   },
   "outputs": [
    {
     "name": "stdout",
     "output_type": "stream",
     "text": [
      "/kaggle/input/playground-series-s5e4/sample_submission.csv\n",
      "/kaggle/input/playground-series-s5e4/train.csv\n",
      "/kaggle/input/playground-series-s5e4/test.csv\n"
     ]
    }
   ],
   "source": [
    "# This Python 3 environment comes with many helpful analytics libraries installed\n",
    "# It is defined by the kaggle/python Docker image: https://github.com/kaggle/docker-python\n",
    "# For example, here's several helpful packages to load\n",
    "\n",
    "import numpy as np # linear algebra\n",
    "import pandas as pd # data processing, CSV file I/O (e.g. pd.read_csv)\n",
    "\n",
    "# Input data files are available in the read-only \"../input/\" directory\n",
    "# For example, running this (by clicking run or pressing Shift+Enter) will list all files under the input directory\n",
    "\n",
    "import os\n",
    "for dirname, _, filenames in os.walk('/kaggle/input'):\n",
    "    for filename in filenames:\n",
    "        print(os.path.join(dirname, filename))\n",
    "\n",
    "# You can write up to 20GB to the current directory (/kaggle/working/) that gets preserved as output when you create a version using \"Save & Run All\" \n",
    "# You can also write temporary files to /kaggle/temp/, but they won't be saved outside of the current session"
   ]
  },
  {
   "cell_type": "code",
   "execution_count": 2,
   "id": "2b2563c2",
   "metadata": {
    "execution": {
     "iopub.execute_input": "2025-04-11T15:08:44.156834Z",
     "iopub.status.busy": "2025-04-11T15:08:44.156145Z",
     "iopub.status.idle": "2025-04-11T15:08:45.614515Z",
     "shell.execute_reply": "2025-04-11T15:08:45.613936Z"
    },
    "papermill": {
     "duration": 1.466914,
     "end_time": "2025-04-11T15:08:45.615793",
     "exception": false,
     "start_time": "2025-04-11T15:08:44.148879",
     "status": "completed"
    },
    "tags": []
   },
   "outputs": [],
   "source": [
    "import pandas as pd\n",
    "import numpy as np\n",
    "import matplotlib.pyplot as plt\n",
    "import seaborn as sns\n",
    "sns.set()"
   ]
  },
  {
   "cell_type": "code",
   "execution_count": 3,
   "id": "e4e8d824",
   "metadata": {
    "execution": {
     "iopub.execute_input": "2025-04-11T15:08:45.627097Z",
     "iopub.status.busy": "2025-04-11T15:08:45.626690Z",
     "iopub.status.idle": "2025-04-11T15:08:48.205884Z",
     "shell.execute_reply": "2025-04-11T15:08:48.205104Z"
    },
    "papermill": {
     "duration": 2.586032,
     "end_time": "2025-04-11T15:08:48.207260",
     "exception": false,
     "start_time": "2025-04-11T15:08:45.621228",
     "status": "completed"
    },
    "tags": []
   },
   "outputs": [],
   "source": [
    "df_train = pd.read_csv(\"/kaggle/input/playground-series-s5e4/train.csv\")\n",
    "df_test = pd.read_csv(\"/kaggle/input/playground-series-s5e4/test.csv\")\n",
    "df_submission = pd.read_csv(\"/kaggle/input/playground-series-s5e4/sample_submission.csv\")"
   ]
  },
  {
   "cell_type": "code",
   "execution_count": 4,
   "id": "2f93bf93",
   "metadata": {
    "execution": {
     "iopub.execute_input": "2025-04-11T15:08:48.218493Z",
     "iopub.status.busy": "2025-04-11T15:08:48.218290Z",
     "iopub.status.idle": "2025-04-11T15:08:48.242708Z",
     "shell.execute_reply": "2025-04-11T15:08:48.241996Z"
    },
    "papermill": {
     "duration": 0.031212,
     "end_time": "2025-04-11T15:08:48.243819",
     "exception": false,
     "start_time": "2025-04-11T15:08:48.212607",
     "status": "completed"
    },
    "tags": []
   },
   "outputs": [
    {
     "name": "stderr",
     "output_type": "stream",
     "text": [
      "/usr/local/lib/python3.11/dist-packages/pandas/io/formats/format.py:1458: RuntimeWarning: invalid value encountered in greater\n",
      "  has_large_values = (abs_vals > 1e6).any()\n",
      "/usr/local/lib/python3.11/dist-packages/pandas/io/formats/format.py:1459: RuntimeWarning: invalid value encountered in less\n",
      "  has_small_values = ((abs_vals < 10 ** (-self.digits)) & (abs_vals > 0)).any()\n",
      "/usr/local/lib/python3.11/dist-packages/pandas/io/formats/format.py:1459: RuntimeWarning: invalid value encountered in greater\n",
      "  has_small_values = ((abs_vals < 10 ** (-self.digits)) & (abs_vals > 0)).any()\n"
     ]
    },
    {
     "data": {
      "text/html": [
       "<div>\n",
       "<style scoped>\n",
       "    .dataframe tbody tr th:only-of-type {\n",
       "        vertical-align: middle;\n",
       "    }\n",
       "\n",
       "    .dataframe tbody tr th {\n",
       "        vertical-align: top;\n",
       "    }\n",
       "\n",
       "    .dataframe thead th {\n",
       "        text-align: right;\n",
       "    }\n",
       "</style>\n",
       "<table border=\"1\" class=\"dataframe\">\n",
       "  <thead>\n",
       "    <tr style=\"text-align: right;\">\n",
       "      <th></th>\n",
       "      <th>id</th>\n",
       "      <th>Podcast_Name</th>\n",
       "      <th>Episode_Title</th>\n",
       "      <th>Episode_Length_minutes</th>\n",
       "      <th>Genre</th>\n",
       "      <th>Host_Popularity_percentage</th>\n",
       "      <th>Publication_Day</th>\n",
       "      <th>Publication_Time</th>\n",
       "      <th>Guest_Popularity_percentage</th>\n",
       "      <th>Number_of_Ads</th>\n",
       "      <th>Episode_Sentiment</th>\n",
       "      <th>Listening_Time_minutes</th>\n",
       "    </tr>\n",
       "  </thead>\n",
       "  <tbody>\n",
       "    <tr>\n",
       "      <th>0</th>\n",
       "      <td>0</td>\n",
       "      <td>Mystery Matters</td>\n",
       "      <td>Episode 98</td>\n",
       "      <td>NaN</td>\n",
       "      <td>True Crime</td>\n",
       "      <td>74.81</td>\n",
       "      <td>Thursday</td>\n",
       "      <td>Night</td>\n",
       "      <td>NaN</td>\n",
       "      <td>0.0</td>\n",
       "      <td>Positive</td>\n",
       "      <td>31.41998</td>\n",
       "    </tr>\n",
       "    <tr>\n",
       "      <th>1</th>\n",
       "      <td>1</td>\n",
       "      <td>Joke Junction</td>\n",
       "      <td>Episode 26</td>\n",
       "      <td>119.80</td>\n",
       "      <td>Comedy</td>\n",
       "      <td>66.95</td>\n",
       "      <td>Saturday</td>\n",
       "      <td>Afternoon</td>\n",
       "      <td>75.95</td>\n",
       "      <td>2.0</td>\n",
       "      <td>Negative</td>\n",
       "      <td>88.01241</td>\n",
       "    </tr>\n",
       "    <tr>\n",
       "      <th>2</th>\n",
       "      <td>2</td>\n",
       "      <td>Study Sessions</td>\n",
       "      <td>Episode 16</td>\n",
       "      <td>73.90</td>\n",
       "      <td>Education</td>\n",
       "      <td>69.97</td>\n",
       "      <td>Tuesday</td>\n",
       "      <td>Evening</td>\n",
       "      <td>8.97</td>\n",
       "      <td>0.0</td>\n",
       "      <td>Negative</td>\n",
       "      <td>44.92531</td>\n",
       "    </tr>\n",
       "    <tr>\n",
       "      <th>3</th>\n",
       "      <td>3</td>\n",
       "      <td>Digital Digest</td>\n",
       "      <td>Episode 45</td>\n",
       "      <td>67.17</td>\n",
       "      <td>Technology</td>\n",
       "      <td>57.22</td>\n",
       "      <td>Monday</td>\n",
       "      <td>Morning</td>\n",
       "      <td>78.70</td>\n",
       "      <td>2.0</td>\n",
       "      <td>Positive</td>\n",
       "      <td>46.27824</td>\n",
       "    </tr>\n",
       "    <tr>\n",
       "      <th>4</th>\n",
       "      <td>4</td>\n",
       "      <td>Mind &amp; Body</td>\n",
       "      <td>Episode 86</td>\n",
       "      <td>110.51</td>\n",
       "      <td>Health</td>\n",
       "      <td>80.07</td>\n",
       "      <td>Monday</td>\n",
       "      <td>Afternoon</td>\n",
       "      <td>58.68</td>\n",
       "      <td>3.0</td>\n",
       "      <td>Neutral</td>\n",
       "      <td>75.61031</td>\n",
       "    </tr>\n",
       "  </tbody>\n",
       "</table>\n",
       "</div>"
      ],
      "text/plain": [
       "   id     Podcast_Name Episode_Title  Episode_Length_minutes       Genre  \\\n",
       "0   0  Mystery Matters    Episode 98                     NaN  True Crime   \n",
       "1   1    Joke Junction    Episode 26                  119.80      Comedy   \n",
       "2   2   Study Sessions    Episode 16                   73.90   Education   \n",
       "3   3   Digital Digest    Episode 45                   67.17  Technology   \n",
       "4   4      Mind & Body    Episode 86                  110.51      Health   \n",
       "\n",
       "   Host_Popularity_percentage Publication_Day Publication_Time  \\\n",
       "0                       74.81        Thursday            Night   \n",
       "1                       66.95        Saturday        Afternoon   \n",
       "2                       69.97         Tuesday          Evening   \n",
       "3                       57.22          Monday          Morning   \n",
       "4                       80.07          Monday        Afternoon   \n",
       "\n",
       "   Guest_Popularity_percentage  Number_of_Ads Episode_Sentiment  \\\n",
       "0                          NaN            0.0          Positive   \n",
       "1                        75.95            2.0          Negative   \n",
       "2                         8.97            0.0          Negative   \n",
       "3                        78.70            2.0          Positive   \n",
       "4                        58.68            3.0           Neutral   \n",
       "\n",
       "   Listening_Time_minutes  \n",
       "0                31.41998  \n",
       "1                88.01241  \n",
       "2                44.92531  \n",
       "3                46.27824  \n",
       "4                75.61031  "
      ]
     },
     "execution_count": 4,
     "metadata": {},
     "output_type": "execute_result"
    }
   ],
   "source": [
    "df_train.head()"
   ]
  },
  {
   "cell_type": "code",
   "execution_count": 5,
   "id": "e146dbc7",
   "metadata": {
    "execution": {
     "iopub.execute_input": "2025-04-11T15:08:48.256173Z",
     "iopub.status.busy": "2025-04-11T15:08:48.255946Z",
     "iopub.status.idle": "2025-04-11T15:08:48.449821Z",
     "shell.execute_reply": "2025-04-11T15:08:48.449111Z"
    },
    "papermill": {
     "duration": 0.201307,
     "end_time": "2025-04-11T15:08:48.450915",
     "exception": false,
     "start_time": "2025-04-11T15:08:48.249608",
     "status": "completed"
    },
    "tags": []
   },
   "outputs": [
    {
     "data": {
      "text/html": [
       "<div>\n",
       "<style scoped>\n",
       "    .dataframe tbody tr th:only-of-type {\n",
       "        vertical-align: middle;\n",
       "    }\n",
       "\n",
       "    .dataframe tbody tr th {\n",
       "        vertical-align: top;\n",
       "    }\n",
       "\n",
       "    .dataframe thead th {\n",
       "        text-align: right;\n",
       "    }\n",
       "</style>\n",
       "<table border=\"1\" class=\"dataframe\">\n",
       "  <thead>\n",
       "    <tr style=\"text-align: right;\">\n",
       "      <th></th>\n",
       "      <th>id</th>\n",
       "      <th>Episode_Length_minutes</th>\n",
       "      <th>Host_Popularity_percentage</th>\n",
       "      <th>Guest_Popularity_percentage</th>\n",
       "      <th>Number_of_Ads</th>\n",
       "      <th>Listening_Time_minutes</th>\n",
       "    </tr>\n",
       "  </thead>\n",
       "  <tbody>\n",
       "    <tr>\n",
       "      <th>count</th>\n",
       "      <td>750000.000000</td>\n",
       "      <td>662907.000000</td>\n",
       "      <td>750000.000000</td>\n",
       "      <td>603970.000000</td>\n",
       "      <td>749999.000000</td>\n",
       "      <td>750000.000000</td>\n",
       "    </tr>\n",
       "    <tr>\n",
       "      <th>mean</th>\n",
       "      <td>374999.500000</td>\n",
       "      <td>64.504738</td>\n",
       "      <td>59.859901</td>\n",
       "      <td>52.236449</td>\n",
       "      <td>1.348855</td>\n",
       "      <td>45.437406</td>\n",
       "    </tr>\n",
       "    <tr>\n",
       "      <th>std</th>\n",
       "      <td>216506.495284</td>\n",
       "      <td>32.969603</td>\n",
       "      <td>22.873098</td>\n",
       "      <td>28.451241</td>\n",
       "      <td>1.151130</td>\n",
       "      <td>27.138306</td>\n",
       "    </tr>\n",
       "    <tr>\n",
       "      <th>min</th>\n",
       "      <td>0.000000</td>\n",
       "      <td>0.000000</td>\n",
       "      <td>1.300000</td>\n",
       "      <td>0.000000</td>\n",
       "      <td>0.000000</td>\n",
       "      <td>0.000000</td>\n",
       "    </tr>\n",
       "    <tr>\n",
       "      <th>25%</th>\n",
       "      <td>187499.750000</td>\n",
       "      <td>35.730000</td>\n",
       "      <td>39.410000</td>\n",
       "      <td>28.380000</td>\n",
       "      <td>0.000000</td>\n",
       "      <td>23.178350</td>\n",
       "    </tr>\n",
       "    <tr>\n",
       "      <th>50%</th>\n",
       "      <td>374999.500000</td>\n",
       "      <td>63.840000</td>\n",
       "      <td>60.050000</td>\n",
       "      <td>53.580000</td>\n",
       "      <td>1.000000</td>\n",
       "      <td>43.379460</td>\n",
       "    </tr>\n",
       "    <tr>\n",
       "      <th>75%</th>\n",
       "      <td>562499.250000</td>\n",
       "      <td>94.070000</td>\n",
       "      <td>79.530000</td>\n",
       "      <td>76.600000</td>\n",
       "      <td>2.000000</td>\n",
       "      <td>64.811580</td>\n",
       "    </tr>\n",
       "    <tr>\n",
       "      <th>max</th>\n",
       "      <td>749999.000000</td>\n",
       "      <td>325.240000</td>\n",
       "      <td>119.460000</td>\n",
       "      <td>119.910000</td>\n",
       "      <td>103.910000</td>\n",
       "      <td>119.970000</td>\n",
       "    </tr>\n",
       "  </tbody>\n",
       "</table>\n",
       "</div>"
      ],
      "text/plain": [
       "                  id  Episode_Length_minutes  Host_Popularity_percentage  \\\n",
       "count  750000.000000           662907.000000               750000.000000   \n",
       "mean   374999.500000               64.504738                   59.859901   \n",
       "std    216506.495284               32.969603                   22.873098   \n",
       "min         0.000000                0.000000                    1.300000   \n",
       "25%    187499.750000               35.730000                   39.410000   \n",
       "50%    374999.500000               63.840000                   60.050000   \n",
       "75%    562499.250000               94.070000                   79.530000   \n",
       "max    749999.000000              325.240000                  119.460000   \n",
       "\n",
       "       Guest_Popularity_percentage  Number_of_Ads  Listening_Time_minutes  \n",
       "count                603970.000000  749999.000000           750000.000000  \n",
       "mean                     52.236449       1.348855               45.437406  \n",
       "std                      28.451241       1.151130               27.138306  \n",
       "min                       0.000000       0.000000                0.000000  \n",
       "25%                      28.380000       0.000000               23.178350  \n",
       "50%                      53.580000       1.000000               43.379460  \n",
       "75%                      76.600000       2.000000               64.811580  \n",
       "max                     119.910000     103.910000              119.970000  "
      ]
     },
     "execution_count": 5,
     "metadata": {},
     "output_type": "execute_result"
    }
   ],
   "source": [
    "df_train.describe()"
   ]
  },
  {
   "cell_type": "code",
   "execution_count": 6,
   "id": "8aa87d09",
   "metadata": {
    "execution": {
     "iopub.execute_input": "2025-04-11T15:08:48.462756Z",
     "iopub.status.busy": "2025-04-11T15:08:48.462547Z",
     "iopub.status.idle": "2025-04-11T15:08:48.666217Z",
     "shell.execute_reply": "2025-04-11T15:08:48.665627Z"
    },
    "papermill": {
     "duration": 0.21076,
     "end_time": "2025-04-11T15:08:48.667409",
     "exception": false,
     "start_time": "2025-04-11T15:08:48.456649",
     "status": "completed"
    },
    "tags": []
   },
   "outputs": [
    {
     "data": {
      "text/plain": [
       "id                                  0\n",
       "Podcast_Name                        0\n",
       "Episode_Title                       0\n",
       "Episode_Length_minutes          87093\n",
       "Genre                               0\n",
       "Host_Popularity_percentage          0\n",
       "Publication_Day                     0\n",
       "Publication_Time                    0\n",
       "Guest_Popularity_percentage    146030\n",
       "Number_of_Ads                       1\n",
       "Episode_Sentiment                   0\n",
       "Listening_Time_minutes              0\n",
       "dtype: int64"
      ]
     },
     "execution_count": 6,
     "metadata": {},
     "output_type": "execute_result"
    }
   ],
   "source": [
    "df_train.isnull().sum()"
   ]
  },
  {
   "cell_type": "markdown",
   "id": "2c4f5643",
   "metadata": {
    "papermill": {
     "duration": 0.005226,
     "end_time": "2025-04-11T15:08:48.678025",
     "exception": false,
     "start_time": "2025-04-11T15:08:48.672799",
     "status": "completed"
    },
    "tags": []
   },
   "source": [
    "## Train test Split"
   ]
  },
  {
   "cell_type": "code",
   "execution_count": 7,
   "id": "1af9562d",
   "metadata": {
    "execution": {
     "iopub.execute_input": "2025-04-11T15:08:48.689312Z",
     "iopub.status.busy": "2025-04-11T15:08:48.689101Z",
     "iopub.status.idle": "2025-04-11T15:08:48.731852Z",
     "shell.execute_reply": "2025-04-11T15:08:48.731332Z"
    },
    "papermill": {
     "duration": 0.049654,
     "end_time": "2025-04-11T15:08:48.732932",
     "exception": false,
     "start_time": "2025-04-11T15:08:48.683278",
     "status": "completed"
    },
    "tags": []
   },
   "outputs": [],
   "source": [
    "X = df_train.copy()\n",
    "y = df_train[\"Listening_Time_minutes\"]"
   ]
  },
  {
   "cell_type": "code",
   "execution_count": 8,
   "id": "37552849",
   "metadata": {
    "execution": {
     "iopub.execute_input": "2025-04-11T15:08:48.744491Z",
     "iopub.status.busy": "2025-04-11T15:08:48.744278Z",
     "iopub.status.idle": "2025-04-11T15:08:49.094155Z",
     "shell.execute_reply": "2025-04-11T15:08:49.093588Z"
    },
    "papermill": {
     "duration": 0.357127,
     "end_time": "2025-04-11T15:08:49.095599",
     "exception": false,
     "start_time": "2025-04-11T15:08:48.738472",
     "status": "completed"
    },
    "tags": []
   },
   "outputs": [],
   "source": [
    "from sklearn.model_selection import train_test_split\n",
    "X_train_initial,X_test_initial, y_train_initial, y_test_initial = train_test_split(X, y, test_size=0.2, random_state=42)"
   ]
  },
  {
   "cell_type": "code",
   "execution_count": 9,
   "id": "b235058d",
   "metadata": {
    "execution": {
     "iopub.execute_input": "2025-04-11T15:08:49.107829Z",
     "iopub.status.busy": "2025-04-11T15:08:49.107606Z",
     "iopub.status.idle": "2025-04-11T15:08:49.121489Z",
     "shell.execute_reply": "2025-04-11T15:08:49.120765Z"
    },
    "papermill": {
     "duration": 0.021654,
     "end_time": "2025-04-11T15:08:49.123052",
     "exception": false,
     "start_time": "2025-04-11T15:08:49.101398",
     "status": "completed"
    },
    "tags": []
   },
   "outputs": [
    {
     "name": "stderr",
     "output_type": "stream",
     "text": [
      "/usr/local/lib/python3.11/dist-packages/pandas/io/formats/format.py:1458: RuntimeWarning: invalid value encountered in greater\n",
      "  has_large_values = (abs_vals > 1e6).any()\n",
      "/usr/local/lib/python3.11/dist-packages/pandas/io/formats/format.py:1459: RuntimeWarning: invalid value encountered in less\n",
      "  has_small_values = ((abs_vals < 10 ** (-self.digits)) & (abs_vals > 0)).any()\n",
      "/usr/local/lib/python3.11/dist-packages/pandas/io/formats/format.py:1459: RuntimeWarning: invalid value encountered in greater\n",
      "  has_small_values = ((abs_vals < 10 ** (-self.digits)) & (abs_vals > 0)).any()\n"
     ]
    },
    {
     "data": {
      "text/html": [
       "<div>\n",
       "<style scoped>\n",
       "    .dataframe tbody tr th:only-of-type {\n",
       "        vertical-align: middle;\n",
       "    }\n",
       "\n",
       "    .dataframe tbody tr th {\n",
       "        vertical-align: top;\n",
       "    }\n",
       "\n",
       "    .dataframe thead th {\n",
       "        text-align: right;\n",
       "    }\n",
       "</style>\n",
       "<table border=\"1\" class=\"dataframe\">\n",
       "  <thead>\n",
       "    <tr style=\"text-align: right;\">\n",
       "      <th></th>\n",
       "      <th>id</th>\n",
       "      <th>Podcast_Name</th>\n",
       "      <th>Episode_Title</th>\n",
       "      <th>Episode_Length_minutes</th>\n",
       "      <th>Genre</th>\n",
       "      <th>Host_Popularity_percentage</th>\n",
       "      <th>Publication_Day</th>\n",
       "      <th>Publication_Time</th>\n",
       "      <th>Guest_Popularity_percentage</th>\n",
       "      <th>Number_of_Ads</th>\n",
       "      <th>Episode_Sentiment</th>\n",
       "      <th>Listening_Time_minutes</th>\n",
       "    </tr>\n",
       "  </thead>\n",
       "  <tbody>\n",
       "    <tr>\n",
       "      <th>453635</th>\n",
       "      <td>453635</td>\n",
       "      <td>True Crime Stories</td>\n",
       "      <td>Episode 81</td>\n",
       "      <td>94.30</td>\n",
       "      <td>True Crime</td>\n",
       "      <td>97.67</td>\n",
       "      <td>Friday</td>\n",
       "      <td>Afternoon</td>\n",
       "      <td>NaN</td>\n",
       "      <td>2.0</td>\n",
       "      <td>Positive</td>\n",
       "      <td>77.27788</td>\n",
       "    </tr>\n",
       "    <tr>\n",
       "      <th>11651</th>\n",
       "      <td>11651</td>\n",
       "      <td>Learning Lab</td>\n",
       "      <td>Episode 53</td>\n",
       "      <td>82.15</td>\n",
       "      <td>Education</td>\n",
       "      <td>94.78</td>\n",
       "      <td>Saturday</td>\n",
       "      <td>Night</td>\n",
       "      <td>NaN</td>\n",
       "      <td>1.0</td>\n",
       "      <td>Positive</td>\n",
       "      <td>50.02839</td>\n",
       "    </tr>\n",
       "    <tr>\n",
       "      <th>431999</th>\n",
       "      <td>431999</td>\n",
       "      <td>Tech Trends</td>\n",
       "      <td>Episode 21</td>\n",
       "      <td>13.72</td>\n",
       "      <td>Technology</td>\n",
       "      <td>68.60</td>\n",
       "      <td>Saturday</td>\n",
       "      <td>Afternoon</td>\n",
       "      <td>65.77</td>\n",
       "      <td>3.0</td>\n",
       "      <td>Negative</td>\n",
       "      <td>10.07496</td>\n",
       "    </tr>\n",
       "    <tr>\n",
       "      <th>529211</th>\n",
       "      <td>529211</td>\n",
       "      <td>Laugh Line</td>\n",
       "      <td>Episode 99</td>\n",
       "      <td>24.00</td>\n",
       "      <td>Comedy</td>\n",
       "      <td>42.14</td>\n",
       "      <td>Saturday</td>\n",
       "      <td>Morning</td>\n",
       "      <td>41.29</td>\n",
       "      <td>0.0</td>\n",
       "      <td>Negative</td>\n",
       "      <td>17.82074</td>\n",
       "    </tr>\n",
       "    <tr>\n",
       "      <th>110925</th>\n",
       "      <td>110925</td>\n",
       "      <td>Athlete's Arena</td>\n",
       "      <td>Episode 15</td>\n",
       "      <td>NaN</td>\n",
       "      <td>Sports</td>\n",
       "      <td>34.10</td>\n",
       "      <td>Friday</td>\n",
       "      <td>Night</td>\n",
       "      <td>NaN</td>\n",
       "      <td>0.0</td>\n",
       "      <td>Neutral</td>\n",
       "      <td>94.80341</td>\n",
       "    </tr>\n",
       "  </tbody>\n",
       "</table>\n",
       "</div>"
      ],
      "text/plain": [
       "            id        Podcast_Name Episode_Title  Episode_Length_minutes  \\\n",
       "453635  453635  True Crime Stories    Episode 81                   94.30   \n",
       "11651    11651        Learning Lab    Episode 53                   82.15   \n",
       "431999  431999         Tech Trends    Episode 21                   13.72   \n",
       "529211  529211          Laugh Line    Episode 99                   24.00   \n",
       "110925  110925     Athlete's Arena    Episode 15                     NaN   \n",
       "\n",
       "             Genre  Host_Popularity_percentage Publication_Day  \\\n",
       "453635  True Crime                       97.67          Friday   \n",
       "11651    Education                       94.78        Saturday   \n",
       "431999  Technology                       68.60        Saturday   \n",
       "529211      Comedy                       42.14        Saturday   \n",
       "110925      Sports                       34.10          Friday   \n",
       "\n",
       "       Publication_Time  Guest_Popularity_percentage  Number_of_Ads  \\\n",
       "453635        Afternoon                          NaN            2.0   \n",
       "11651             Night                          NaN            1.0   \n",
       "431999        Afternoon                        65.77            3.0   \n",
       "529211          Morning                        41.29            0.0   \n",
       "110925            Night                          NaN            0.0   \n",
       "\n",
       "       Episode_Sentiment  Listening_Time_minutes  \n",
       "453635          Positive                77.27788  \n",
       "11651           Positive                50.02839  \n",
       "431999          Negative                10.07496  \n",
       "529211          Negative                17.82074  \n",
       "110925           Neutral                94.80341  "
      ]
     },
     "execution_count": 9,
     "metadata": {},
     "output_type": "execute_result"
    }
   ],
   "source": [
    "X_train_initial.head()"
   ]
  },
  {
   "cell_type": "markdown",
   "id": "d88b3c49",
   "metadata": {
    "papermill": {
     "duration": 0.006302,
     "end_time": "2025-04-11T15:08:49.135608",
     "exception": false,
     "start_time": "2025-04-11T15:08:49.129306",
     "status": "completed"
    },
    "tags": []
   },
   "source": [
    "## Fix percentage outliers"
   ]
  },
  {
   "cell_type": "code",
   "execution_count": 10,
   "id": "102a0a60",
   "metadata": {
    "execution": {
     "iopub.execute_input": "2025-04-11T15:08:49.148693Z",
     "iopub.status.busy": "2025-04-11T15:08:49.147980Z",
     "iopub.status.idle": "2025-04-11T15:08:49.154227Z",
     "shell.execute_reply": "2025-04-11T15:08:49.153473Z"
    },
    "papermill": {
     "duration": 0.013832,
     "end_time": "2025-04-11T15:08:49.155443",
     "exception": false,
     "start_time": "2025-04-11T15:08:49.141611",
     "status": "completed"
    },
    "tags": []
   },
   "outputs": [
    {
     "data": {
      "text/plain": [
       "(22, 12)"
      ]
     },
     "execution_count": 10,
     "metadata": {},
     "output_type": "execute_result"
    }
   ],
   "source": [
    "X_train_initial[X_train_initial[\"Host_Popularity_percentage\"] > 100 ].shape"
   ]
  },
  {
   "cell_type": "code",
   "execution_count": 11,
   "id": "b80ebf5c",
   "metadata": {
    "execution": {
     "iopub.execute_input": "2025-04-11T15:08:49.168282Z",
     "iopub.status.busy": "2025-04-11T15:08:49.168031Z",
     "iopub.status.idle": "2025-04-11T15:08:49.189920Z",
     "shell.execute_reply": "2025-04-11T15:08:49.189471Z"
    },
    "papermill": {
     "duration": 0.029852,
     "end_time": "2025-04-11T15:08:49.190876",
     "exception": false,
     "start_time": "2025-04-11T15:08:49.161024",
     "status": "completed"
    },
    "tags": []
   },
   "outputs": [],
   "source": [
    "Guest_median_train = X_train_initial[\"Guest_Popularity_percentage\"].median()\n",
    "Guest_median_test = X_test_initial[\"Guest_Popularity_percentage\"].median()\n",
    "#Guest_median_sub = df_test[\"Guest_Popularity_percentage\"].median()\n",
    "\n",
    "Host_median_train = X_train_initial[\"Host_Popularity_percentage\"].median()\n",
    "Host_median_test = X_test_initial[\"Host_Popularity_percentage\"].median()\n",
    "#Host_median_sub = df_test[\"Host_Popularity_percentage\"].median()"
   ]
  },
  {
   "cell_type": "code",
   "execution_count": 12,
   "id": "3a6fe4f6",
   "metadata": {
    "execution": {
     "iopub.execute_input": "2025-04-11T15:08:49.202913Z",
     "iopub.status.busy": "2025-04-11T15:08:49.202706Z",
     "iopub.status.idle": "2025-04-11T15:08:53.551953Z",
     "shell.execute_reply": "2025-04-11T15:08:53.551387Z"
    },
    "papermill": {
     "duration": 4.356842,
     "end_time": "2025-04-11T15:08:53.553311",
     "exception": false,
     "start_time": "2025-04-11T15:08:49.196469",
     "status": "completed"
    },
    "tags": []
   },
   "outputs": [],
   "source": [
    "X_train_initial[\"Guest_Popularity_percentage\"] = X_train_initial.apply(lambda row:row[\"Guest_Popularity_percentage\"] if row[\"Guest_Popularity_percentage\"] <= 100 else Guest_median_train, axis=1)\n",
    "X_test_initial[\"Guest_Popularity_percentage\"] = X_test_initial.apply(lambda row:row[\"Guest_Popularity_percentage\"] if row[\"Guest_Popularity_percentage\"] <= 100 else Guest_median_test, axis=1)\n",
    "#df_test[\"Guest_Popularity_percentage\"] = df_test.apply(lambda row:row[\"Guest_Popularity_percentage\"] if row[\"Guest_Popularity_percentage\"] <= 100 else Guest_median_sub, axis=1)\n"
   ]
  },
  {
   "cell_type": "code",
   "execution_count": 13,
   "id": "6d03fee1",
   "metadata": {
    "execution": {
     "iopub.execute_input": "2025-04-11T15:08:53.566025Z",
     "iopub.status.busy": "2025-04-11T15:08:53.565800Z",
     "iopub.status.idle": "2025-04-11T15:08:58.077098Z",
     "shell.execute_reply": "2025-04-11T15:08:58.076301Z"
    },
    "papermill": {
     "duration": 4.519173,
     "end_time": "2025-04-11T15:08:58.078638",
     "exception": false,
     "start_time": "2025-04-11T15:08:53.559465",
     "status": "completed"
    },
    "tags": []
   },
   "outputs": [],
   "source": [
    "X_train_initial[\"Host_Popularity_percentage\"] = X_train_initial.apply(lambda row:row[\"Host_Popularity_percentage\"] if row[\"Host_Popularity_percentage\"] <= 100 else Host_median_train, axis=1)\n",
    "X_test_initial[\"Host_Popularity_percentage\"] = X_test_initial.apply(lambda row:row[\"Host_Popularity_percentage\"] if row[\"Host_Popularity_percentage\"] <= 100 else Host_median_test, axis=1)\n",
    "#df_test[\"Host_Popularity_percentage\"] = df_test.apply(lambda row:row[\"Host_Popularity_percentage\"] if row[\"Host_Popularity_percentage\"] <= 100 else Host_median_sub, axis=1)\n"
   ]
  },
  {
   "cell_type": "markdown",
   "id": "fd5e87b0",
   "metadata": {
    "papermill": {
     "duration": 0.005572,
     "end_time": "2025-04-11T15:08:58.090110",
     "exception": false,
     "start_time": "2025-04-11T15:08:58.084538",
     "status": "completed"
    },
    "tags": []
   },
   "source": [
    "## Fix Number of Ads"
   ]
  },
  {
   "cell_type": "code",
   "execution_count": 14,
   "id": "8e5a9adb",
   "metadata": {
    "execution": {
     "iopub.execute_input": "2025-04-11T15:08:58.101905Z",
     "iopub.status.busy": "2025-04-11T15:08:58.101613Z",
     "iopub.status.idle": "2025-04-11T15:08:58.108434Z",
     "shell.execute_reply": "2025-04-11T15:08:58.107572Z"
    },
    "papermill": {
     "duration": 0.014127,
     "end_time": "2025-04-11T15:08:58.109707",
     "exception": false,
     "start_time": "2025-04-11T15:08:58.095580",
     "status": "completed"
    },
    "tags": []
   },
   "outputs": [
    {
     "name": "stderr",
     "output_type": "stream",
     "text": [
      "/usr/local/lib/python3.11/dist-packages/pandas/core/computation/expressions.py:73: RuntimeWarning: invalid value encountered in greater\n",
      "  return op(a, b)\n"
     ]
    },
    {
     "data": {
      "text/plain": [
       "(4, 12)"
      ]
     },
     "execution_count": 14,
     "metadata": {},
     "output_type": "execute_result"
    }
   ],
   "source": [
    "X_train_initial[X_train_initial[\"Number_of_Ads\"] > 4 ].shape"
   ]
  },
  {
   "cell_type": "code",
   "execution_count": 15,
   "id": "799847bf",
   "metadata": {
    "execution": {
     "iopub.execute_input": "2025-04-11T15:08:58.123529Z",
     "iopub.status.busy": "2025-04-11T15:08:58.122941Z",
     "iopub.status.idle": "2025-04-11T15:08:58.135812Z",
     "shell.execute_reply": "2025-04-11T15:08:58.135098Z"
    },
    "papermill": {
     "duration": 0.020808,
     "end_time": "2025-04-11T15:08:58.136954",
     "exception": false,
     "start_time": "2025-04-11T15:08:58.116146",
     "status": "completed"
    },
    "tags": []
   },
   "outputs": [],
   "source": [
    "ads_median_train = X_train_initial[\"Number_of_Ads\"].median()\n",
    "ads_median_test = X_test_initial[\"Number_of_Ads\"].median()\n",
    "#ads_median_sub = df_test[\"Number_of_Ads\"].median()"
   ]
  },
  {
   "cell_type": "code",
   "execution_count": 16,
   "id": "e513856d",
   "metadata": {
    "execution": {
     "iopub.execute_input": "2025-04-11T15:08:58.148915Z",
     "iopub.status.busy": "2025-04-11T15:08:58.148716Z",
     "iopub.status.idle": "2025-04-11T15:09:02.797118Z",
     "shell.execute_reply": "2025-04-11T15:09:02.796481Z"
    },
    "papermill": {
     "duration": 4.656046,
     "end_time": "2025-04-11T15:09:02.798586",
     "exception": false,
     "start_time": "2025-04-11T15:08:58.142540",
     "status": "completed"
    },
    "tags": []
   },
   "outputs": [],
   "source": [
    "X_train_initial[\"Number_of_Ads\"] = X_train_initial.apply(lambda row:row[\"Number_of_Ads\"] if row[\"Number_of_Ads\"] <= 4 else ads_median_train, axis=1)\n",
    "X_test_initial[\"Number_of_Ads\"] = X_test_initial.apply(lambda row:row[\"Number_of_Ads\"] if row[\"Number_of_Ads\"] <= 4 else ads_median_test, axis=1)\n",
    "#df_test[\"Number_of_Ads\"] = df_test.apply(lambda row:row[\"Number_of_Ads\"] if row[\"Number_of_Ads\"] <= 4 else ads_median_sub, axis=1)\n"
   ]
  },
  {
   "cell_type": "markdown",
   "id": "8483a696",
   "metadata": {
    "papermill": {
     "duration": 0.006261,
     "end_time": "2025-04-11T15:09:02.811885",
     "exception": false,
     "start_time": "2025-04-11T15:09:02.805624",
     "status": "completed"
    },
    "tags": []
   },
   "source": [
    "## Fix Episode Length"
   ]
  },
  {
   "cell_type": "code",
   "execution_count": 17,
   "id": "41735101",
   "metadata": {
    "execution": {
     "iopub.execute_input": "2025-04-11T15:09:02.825783Z",
     "iopub.status.busy": "2025-04-11T15:09:02.825131Z",
     "iopub.status.idle": "2025-04-11T15:09:08.628221Z",
     "shell.execute_reply": "2025-04-11T15:09:08.627380Z"
    },
    "papermill": {
     "duration": 5.811324,
     "end_time": "2025-04-11T15:09:08.629623",
     "exception": false,
     "start_time": "2025-04-11T15:09:02.818299",
     "status": "completed"
    },
    "tags": []
   },
   "outputs": [],
   "source": [
    "X_train_initial[\"Episode_Length_minutes\"] = X_train_initial.apply(lambda row: row[\"Episode_Length_minutes\"] if row[\"Episode_Length_minutes\"] > row[\"Listening_Time_minutes\"] else row[\"Listening_Time_minutes\"], axis=1)\n",
    "X_test_initial[\"Episode_Length_minutes\"] = X_test_initial.apply(lambda row: row[\"Episode_Length_minutes\"] if row[\"Episode_Length_minutes\"] > row[\"Listening_Time_minutes\"] else row[\"Listening_Time_minutes\"], axis=1)"
   ]
  },
  {
   "cell_type": "code",
   "execution_count": 18,
   "id": "a4e115cc",
   "metadata": {
    "execution": {
     "iopub.execute_input": "2025-04-11T15:09:08.642959Z",
     "iopub.status.busy": "2025-04-11T15:09:08.642364Z",
     "iopub.status.idle": "2025-04-11T15:09:08.648564Z",
     "shell.execute_reply": "2025-04-11T15:09:08.648094Z"
    },
    "papermill": {
     "duration": 0.013695,
     "end_time": "2025-04-11T15:09:08.649615",
     "exception": false,
     "start_time": "2025-04-11T15:09:08.635920",
     "status": "completed"
    },
    "tags": []
   },
   "outputs": [],
   "source": [
    "test_length_median = df_test[\"Episode_Length_minutes\"].median()"
   ]
  },
  {
   "cell_type": "code",
   "execution_count": 19,
   "id": "ccc1efac",
   "metadata": {
    "execution": {
     "iopub.execute_input": "2025-04-11T15:09:08.702590Z",
     "iopub.status.busy": "2025-04-11T15:09:08.702041Z",
     "iopub.status.idle": "2025-04-11T15:09:08.704990Z",
     "shell.execute_reply": "2025-04-11T15:09:08.704472Z"
    },
    "papermill": {
     "duration": 0.010246,
     "end_time": "2025-04-11T15:09:08.706017",
     "exception": false,
     "start_time": "2025-04-11T15:09:08.695771",
     "status": "completed"
    },
    "tags": []
   },
   "outputs": [],
   "source": [
    "#df_test[df_test[\"Episode_Length_minutes\"] > 7575.0].head()"
   ]
  },
  {
   "cell_type": "code",
   "execution_count": 20,
   "id": "ef8e7b3e",
   "metadata": {
    "execution": {
     "iopub.execute_input": "2025-04-11T15:09:08.718144Z",
     "iopub.status.busy": "2025-04-11T15:09:08.717937Z",
     "iopub.status.idle": "2025-04-11T15:09:08.720673Z",
     "shell.execute_reply": "2025-04-11T15:09:08.720202Z"
    },
    "papermill": {
     "duration": 0.009883,
     "end_time": "2025-04-11T15:09:08.721582",
     "exception": false,
     "start_time": "2025-04-11T15:09:08.711699",
     "status": "completed"
    },
    "tags": []
   },
   "outputs": [],
   "source": [
    "#df_test.loc[54434, \"Episode_Length_minutes\"] = test_length_median"
   ]
  },
  {
   "cell_type": "code",
   "execution_count": 21,
   "id": "c95c4318",
   "metadata": {
    "execution": {
     "iopub.execute_input": "2025-04-11T15:09:08.733995Z",
     "iopub.status.busy": "2025-04-11T15:09:08.733625Z",
     "iopub.status.idle": "2025-04-11T15:09:08.736488Z",
     "shell.execute_reply": "2025-04-11T15:09:08.735960Z"
    },
    "papermill": {
     "duration": 0.010118,
     "end_time": "2025-04-11T15:09:08.737421",
     "exception": false,
     "start_time": "2025-04-11T15:09:08.727303",
     "status": "completed"
    },
    "tags": []
   },
   "outputs": [],
   "source": [
    "#df_test.loc[56597, \"Episode_Length_minutes\"] = test_length_median"
   ]
  },
  {
   "cell_type": "code",
   "execution_count": 22,
   "id": "28548d82",
   "metadata": {
    "execution": {
     "iopub.execute_input": "2025-04-11T15:09:08.749591Z",
     "iopub.status.busy": "2025-04-11T15:09:08.749132Z",
     "iopub.status.idle": "2025-04-11T15:09:08.752026Z",
     "shell.execute_reply": "2025-04-11T15:09:08.751503Z"
    },
    "papermill": {
     "duration": 0.010004,
     "end_time": "2025-04-11T15:09:08.752995",
     "exception": false,
     "start_time": "2025-04-11T15:09:08.742991",
     "status": "completed"
    },
    "tags": []
   },
   "outputs": [],
   "source": [
    "#df_test.loc[54434, \"Episode_Length_minutes\"]"
   ]
  },
  {
   "cell_type": "code",
   "execution_count": 23,
   "id": "fc4abb6c",
   "metadata": {
    "execution": {
     "iopub.execute_input": "2025-04-11T15:09:08.765392Z",
     "iopub.status.busy": "2025-04-11T15:09:08.765210Z",
     "iopub.status.idle": "2025-04-11T15:09:08.829838Z",
     "shell.execute_reply": "2025-04-11T15:09:08.829204Z"
    },
    "papermill": {
     "duration": 0.071978,
     "end_time": "2025-04-11T15:09:08.830881",
     "exception": false,
     "start_time": "2025-04-11T15:09:08.758903",
     "status": "completed"
    },
    "tags": []
   },
   "outputs": [
    {
     "data": {
      "text/html": [
       "<div>\n",
       "<style scoped>\n",
       "    .dataframe tbody tr th:only-of-type {\n",
       "        vertical-align: middle;\n",
       "    }\n",
       "\n",
       "    .dataframe tbody tr th {\n",
       "        vertical-align: top;\n",
       "    }\n",
       "\n",
       "    .dataframe thead th {\n",
       "        text-align: right;\n",
       "    }\n",
       "</style>\n",
       "<table border=\"1\" class=\"dataframe\">\n",
       "  <thead>\n",
       "    <tr style=\"text-align: right;\">\n",
       "      <th></th>\n",
       "      <th>id</th>\n",
       "      <th>Episode_Length_minutes</th>\n",
       "      <th>Host_Popularity_percentage</th>\n",
       "      <th>Guest_Popularity_percentage</th>\n",
       "      <th>Number_of_Ads</th>\n",
       "    </tr>\n",
       "  </thead>\n",
       "  <tbody>\n",
       "    <tr>\n",
       "      <th>count</th>\n",
       "      <td>250000.000000</td>\n",
       "      <td>2.212640e+05</td>\n",
       "      <td>250000.000000</td>\n",
       "      <td>201168.000000</td>\n",
       "      <td>250000.000000</td>\n",
       "    </tr>\n",
       "    <tr>\n",
       "      <th>mean</th>\n",
       "      <td>874999.500000</td>\n",
       "      <td>4.192987e+02</td>\n",
       "      <td>59.716491</td>\n",
       "      <td>52.192796</td>\n",
       "      <td>1.355852</td>\n",
       "    </tr>\n",
       "    <tr>\n",
       "      <th>std</th>\n",
       "      <td>72168.927986</td>\n",
       "      <td>1.668545e+05</td>\n",
       "      <td>22.880028</td>\n",
       "      <td>28.445034</td>\n",
       "      <td>4.274399</td>\n",
       "    </tr>\n",
       "    <tr>\n",
       "      <th>min</th>\n",
       "      <td>750000.000000</td>\n",
       "      <td>2.470000e+00</td>\n",
       "      <td>2.490000</td>\n",
       "      <td>0.000000</td>\n",
       "      <td>0.000000</td>\n",
       "    </tr>\n",
       "    <tr>\n",
       "      <th>25%</th>\n",
       "      <td>812499.750000</td>\n",
       "      <td>3.578000e+01</td>\n",
       "      <td>39.250000</td>\n",
       "      <td>28.320000</td>\n",
       "      <td>0.000000</td>\n",
       "    </tr>\n",
       "    <tr>\n",
       "      <th>50%</th>\n",
       "      <td>874999.500000</td>\n",
       "      <td>6.397000e+01</td>\n",
       "      <td>59.900000</td>\n",
       "      <td>53.360000</td>\n",
       "      <td>1.000000</td>\n",
       "    </tr>\n",
       "    <tr>\n",
       "      <th>75%</th>\n",
       "      <td>937499.250000</td>\n",
       "      <td>9.415000e+01</td>\n",
       "      <td>79.390000</td>\n",
       "      <td>76.560000</td>\n",
       "      <td>2.000000</td>\n",
       "    </tr>\n",
       "    <tr>\n",
       "      <th>max</th>\n",
       "      <td>999999.000000</td>\n",
       "      <td>7.848626e+07</td>\n",
       "      <td>117.760000</td>\n",
       "      <td>116.820000</td>\n",
       "      <td>2063.000000</td>\n",
       "    </tr>\n",
       "  </tbody>\n",
       "</table>\n",
       "</div>"
      ],
      "text/plain": [
       "                  id  Episode_Length_minutes  Host_Popularity_percentage  \\\n",
       "count  250000.000000            2.212640e+05               250000.000000   \n",
       "mean   874999.500000            4.192987e+02                   59.716491   \n",
       "std     72168.927986            1.668545e+05                   22.880028   \n",
       "min    750000.000000            2.470000e+00                    2.490000   \n",
       "25%    812499.750000            3.578000e+01                   39.250000   \n",
       "50%    874999.500000            6.397000e+01                   59.900000   \n",
       "75%    937499.250000            9.415000e+01                   79.390000   \n",
       "max    999999.000000            7.848626e+07                  117.760000   \n",
       "\n",
       "       Guest_Popularity_percentage  Number_of_Ads  \n",
       "count                201168.000000  250000.000000  \n",
       "mean                     52.192796       1.355852  \n",
       "std                      28.445034       4.274399  \n",
       "min                       0.000000       0.000000  \n",
       "25%                      28.320000       0.000000  \n",
       "50%                      53.360000       1.000000  \n",
       "75%                      76.560000       2.000000  \n",
       "max                     116.820000    2063.000000  "
      ]
     },
     "execution_count": 23,
     "metadata": {},
     "output_type": "execute_result"
    }
   ],
   "source": [
    "df_test.describe()"
   ]
  },
  {
   "cell_type": "code",
   "execution_count": 24,
   "id": "e0fd0e3d",
   "metadata": {
    "execution": {
     "iopub.execute_input": "2025-04-11T15:09:08.844337Z",
     "iopub.status.busy": "2025-04-11T15:09:08.844157Z",
     "iopub.status.idle": "2025-04-11T15:09:08.914926Z",
     "shell.execute_reply": "2025-04-11T15:09:08.914364Z"
    },
    "papermill": {
     "duration": 0.07872,
     "end_time": "2025-04-11T15:09:08.916138",
     "exception": false,
     "start_time": "2025-04-11T15:09:08.837418",
     "status": "completed"
    },
    "tags": []
   },
   "outputs": [
    {
     "data": {
      "text/plain": [
       "id                                 0\n",
       "Podcast_Name                       0\n",
       "Episode_Title                      0\n",
       "Episode_Length_minutes         28736\n",
       "Genre                              0\n",
       "Host_Popularity_percentage         0\n",
       "Publication_Day                    0\n",
       "Publication_Time                   0\n",
       "Guest_Popularity_percentage    48832\n",
       "Number_of_Ads                      0\n",
       "Episode_Sentiment                  0\n",
       "dtype: int64"
      ]
     },
     "execution_count": 24,
     "metadata": {},
     "output_type": "execute_result"
    }
   ],
   "source": [
    "df_test.isnull().sum()"
   ]
  },
  {
   "cell_type": "code",
   "execution_count": 25,
   "id": "368b0c52",
   "metadata": {
    "execution": {
     "iopub.execute_input": "2025-04-11T15:09:08.928948Z",
     "iopub.status.busy": "2025-04-11T15:09:08.928775Z",
     "iopub.status.idle": "2025-04-11T15:09:08.933601Z",
     "shell.execute_reply": "2025-04-11T15:09:08.933116Z"
    },
    "papermill": {
     "duration": 0.012327,
     "end_time": "2025-04-11T15:09:08.934638",
     "exception": false,
     "start_time": "2025-04-11T15:09:08.922311",
     "status": "completed"
    },
    "tags": []
   },
   "outputs": [
    {
     "data": {
      "text/plain": [
       "404846    20.91979\n",
       "580313    42.66054\n",
       "552086    43.30069\n",
       "370876    48.56000\n",
       "239330    48.53842\n",
       "Name: Listening_Time_minutes, dtype: float64"
      ]
     },
     "execution_count": 25,
     "metadata": {},
     "output_type": "execute_result"
    }
   ],
   "source": [
    "y_test_initial.head()"
   ]
  },
  {
   "cell_type": "markdown",
   "id": "1c1e9261",
   "metadata": {
    "papermill": {
     "duration": 0.005684,
     "end_time": "2025-04-11T15:09:08.946961",
     "exception": false,
     "start_time": "2025-04-11T15:09:08.941277",
     "status": "completed"
    },
    "tags": []
   },
   "source": [
    "na values in Episode_Length_minutes in df_test are not filled"
   ]
  },
  {
   "cell_type": "markdown",
   "id": "708fdc74",
   "metadata": {
    "papermill": {
     "duration": 0.005765,
     "end_time": "2025-04-11T15:09:08.958505",
     "exception": false,
     "start_time": "2025-04-11T15:09:08.952740",
     "status": "completed"
    },
    "tags": []
   },
   "source": [
    "## Encoding"
   ]
  },
  {
   "cell_type": "code",
   "execution_count": 26,
   "id": "0074a0b0",
   "metadata": {
    "execution": {
     "iopub.execute_input": "2025-04-11T15:09:08.970774Z",
     "iopub.status.busy": "2025-04-11T15:09:08.970567Z",
     "iopub.status.idle": "2025-04-11T15:09:08.982008Z",
     "shell.execute_reply": "2025-04-11T15:09:08.981302Z"
    },
    "papermill": {
     "duration": 0.018813,
     "end_time": "2025-04-11T15:09:08.983097",
     "exception": false,
     "start_time": "2025-04-11T15:09:08.964284",
     "status": "completed"
    },
    "tags": []
   },
   "outputs": [
    {
     "data": {
      "text/html": [
       "<div>\n",
       "<style scoped>\n",
       "    .dataframe tbody tr th:only-of-type {\n",
       "        vertical-align: middle;\n",
       "    }\n",
       "\n",
       "    .dataframe tbody tr th {\n",
       "        vertical-align: top;\n",
       "    }\n",
       "\n",
       "    .dataframe thead th {\n",
       "        text-align: right;\n",
       "    }\n",
       "</style>\n",
       "<table border=\"1\" class=\"dataframe\">\n",
       "  <thead>\n",
       "    <tr style=\"text-align: right;\">\n",
       "      <th></th>\n",
       "      <th>id</th>\n",
       "      <th>Podcast_Name</th>\n",
       "      <th>Episode_Title</th>\n",
       "      <th>Episode_Length_minutes</th>\n",
       "      <th>Genre</th>\n",
       "      <th>Host_Popularity_percentage</th>\n",
       "      <th>Publication_Day</th>\n",
       "      <th>Publication_Time</th>\n",
       "      <th>Guest_Popularity_percentage</th>\n",
       "      <th>Number_of_Ads</th>\n",
       "      <th>Episode_Sentiment</th>\n",
       "      <th>Listening_Time_minutes</th>\n",
       "    </tr>\n",
       "  </thead>\n",
       "  <tbody>\n",
       "    <tr>\n",
       "      <th>453635</th>\n",
       "      <td>453635</td>\n",
       "      <td>True Crime Stories</td>\n",
       "      <td>Episode 81</td>\n",
       "      <td>94.30000</td>\n",
       "      <td>True Crime</td>\n",
       "      <td>97.67</td>\n",
       "      <td>Friday</td>\n",
       "      <td>Afternoon</td>\n",
       "      <td>53.62</td>\n",
       "      <td>2.0</td>\n",
       "      <td>Positive</td>\n",
       "      <td>77.27788</td>\n",
       "    </tr>\n",
       "    <tr>\n",
       "      <th>11651</th>\n",
       "      <td>11651</td>\n",
       "      <td>Learning Lab</td>\n",
       "      <td>Episode 53</td>\n",
       "      <td>82.15000</td>\n",
       "      <td>Education</td>\n",
       "      <td>94.78</td>\n",
       "      <td>Saturday</td>\n",
       "      <td>Night</td>\n",
       "      <td>53.62</td>\n",
       "      <td>1.0</td>\n",
       "      <td>Positive</td>\n",
       "      <td>50.02839</td>\n",
       "    </tr>\n",
       "    <tr>\n",
       "      <th>431999</th>\n",
       "      <td>431999</td>\n",
       "      <td>Tech Trends</td>\n",
       "      <td>Episode 21</td>\n",
       "      <td>13.72000</td>\n",
       "      <td>Technology</td>\n",
       "      <td>68.60</td>\n",
       "      <td>Saturday</td>\n",
       "      <td>Afternoon</td>\n",
       "      <td>65.77</td>\n",
       "      <td>3.0</td>\n",
       "      <td>Negative</td>\n",
       "      <td>10.07496</td>\n",
       "    </tr>\n",
       "    <tr>\n",
       "      <th>529211</th>\n",
       "      <td>529211</td>\n",
       "      <td>Laugh Line</td>\n",
       "      <td>Episode 99</td>\n",
       "      <td>24.00000</td>\n",
       "      <td>Comedy</td>\n",
       "      <td>42.14</td>\n",
       "      <td>Saturday</td>\n",
       "      <td>Morning</td>\n",
       "      <td>41.29</td>\n",
       "      <td>0.0</td>\n",
       "      <td>Negative</td>\n",
       "      <td>17.82074</td>\n",
       "    </tr>\n",
       "    <tr>\n",
       "      <th>110925</th>\n",
       "      <td>110925</td>\n",
       "      <td>Athlete's Arena</td>\n",
       "      <td>Episode 15</td>\n",
       "      <td>94.80341</td>\n",
       "      <td>Sports</td>\n",
       "      <td>34.10</td>\n",
       "      <td>Friday</td>\n",
       "      <td>Night</td>\n",
       "      <td>53.62</td>\n",
       "      <td>0.0</td>\n",
       "      <td>Neutral</td>\n",
       "      <td>94.80341</td>\n",
       "    </tr>\n",
       "  </tbody>\n",
       "</table>\n",
       "</div>"
      ],
      "text/plain": [
       "            id        Podcast_Name Episode_Title  Episode_Length_minutes  \\\n",
       "453635  453635  True Crime Stories    Episode 81                94.30000   \n",
       "11651    11651        Learning Lab    Episode 53                82.15000   \n",
       "431999  431999         Tech Trends    Episode 21                13.72000   \n",
       "529211  529211          Laugh Line    Episode 99                24.00000   \n",
       "110925  110925     Athlete's Arena    Episode 15                94.80341   \n",
       "\n",
       "             Genre  Host_Popularity_percentage Publication_Day  \\\n",
       "453635  True Crime                       97.67          Friday   \n",
       "11651    Education                       94.78        Saturday   \n",
       "431999  Technology                       68.60        Saturday   \n",
       "529211      Comedy                       42.14        Saturday   \n",
       "110925      Sports                       34.10          Friday   \n",
       "\n",
       "       Publication_Time  Guest_Popularity_percentage  Number_of_Ads  \\\n",
       "453635        Afternoon                        53.62            2.0   \n",
       "11651             Night                        53.62            1.0   \n",
       "431999        Afternoon                        65.77            3.0   \n",
       "529211          Morning                        41.29            0.0   \n",
       "110925            Night                        53.62            0.0   \n",
       "\n",
       "       Episode_Sentiment  Listening_Time_minutes  \n",
       "453635          Positive                77.27788  \n",
       "11651           Positive                50.02839  \n",
       "431999          Negative                10.07496  \n",
       "529211          Negative                17.82074  \n",
       "110925           Neutral                94.80341  "
      ]
     },
     "execution_count": 26,
     "metadata": {},
     "output_type": "execute_result"
    }
   ],
   "source": [
    "X_train_initial.head()"
   ]
  },
  {
   "cell_type": "code",
   "execution_count": 27,
   "id": "528f909c",
   "metadata": {
    "execution": {
     "iopub.execute_input": "2025-04-11T15:09:08.996148Z",
     "iopub.status.busy": "2025-04-11T15:09:08.995721Z",
     "iopub.status.idle": "2025-04-11T15:09:09.045111Z",
     "shell.execute_reply": "2025-04-11T15:09:09.044529Z"
    },
    "papermill": {
     "duration": 0.057274,
     "end_time": "2025-04-11T15:09:09.046445",
     "exception": false,
     "start_time": "2025-04-11T15:09:08.989171",
     "status": "completed"
    },
    "tags": []
   },
   "outputs": [],
   "source": [
    "X_train_dropped = X_train_initial.drop(columns = ['id', 'Listening_Time_minutes'], axis = 1)\n",
    "X_test_dropped = X_test_initial.drop(columns = ['id', 'Listening_Time_minutes'], axis =1)"
   ]
  },
  {
   "cell_type": "code",
   "execution_count": 28,
   "id": "95986593",
   "metadata": {
    "execution": {
     "iopub.execute_input": "2025-04-11T15:09:09.060170Z",
     "iopub.status.busy": "2025-04-11T15:09:09.059946Z",
     "iopub.status.idle": "2025-04-11T15:09:09.070802Z",
     "shell.execute_reply": "2025-04-11T15:09:09.070244Z"
    },
    "papermill": {
     "duration": 0.018791,
     "end_time": "2025-04-11T15:09:09.071844",
     "exception": false,
     "start_time": "2025-04-11T15:09:09.053053",
     "status": "completed"
    },
    "tags": []
   },
   "outputs": [
    {
     "data": {
      "text/html": [
       "<div>\n",
       "<style scoped>\n",
       "    .dataframe tbody tr th:only-of-type {\n",
       "        vertical-align: middle;\n",
       "    }\n",
       "\n",
       "    .dataframe tbody tr th {\n",
       "        vertical-align: top;\n",
       "    }\n",
       "\n",
       "    .dataframe thead th {\n",
       "        text-align: right;\n",
       "    }\n",
       "</style>\n",
       "<table border=\"1\" class=\"dataframe\">\n",
       "  <thead>\n",
       "    <tr style=\"text-align: right;\">\n",
       "      <th></th>\n",
       "      <th>Podcast_Name</th>\n",
       "      <th>Episode_Title</th>\n",
       "      <th>Episode_Length_minutes</th>\n",
       "      <th>Genre</th>\n",
       "      <th>Host_Popularity_percentage</th>\n",
       "      <th>Publication_Day</th>\n",
       "      <th>Publication_Time</th>\n",
       "      <th>Guest_Popularity_percentage</th>\n",
       "      <th>Number_of_Ads</th>\n",
       "      <th>Episode_Sentiment</th>\n",
       "    </tr>\n",
       "  </thead>\n",
       "  <tbody>\n",
       "    <tr>\n",
       "      <th>453635</th>\n",
       "      <td>True Crime Stories</td>\n",
       "      <td>Episode 81</td>\n",
       "      <td>94.30000</td>\n",
       "      <td>True Crime</td>\n",
       "      <td>97.67</td>\n",
       "      <td>Friday</td>\n",
       "      <td>Afternoon</td>\n",
       "      <td>53.62</td>\n",
       "      <td>2.0</td>\n",
       "      <td>Positive</td>\n",
       "    </tr>\n",
       "    <tr>\n",
       "      <th>11651</th>\n",
       "      <td>Learning Lab</td>\n",
       "      <td>Episode 53</td>\n",
       "      <td>82.15000</td>\n",
       "      <td>Education</td>\n",
       "      <td>94.78</td>\n",
       "      <td>Saturday</td>\n",
       "      <td>Night</td>\n",
       "      <td>53.62</td>\n",
       "      <td>1.0</td>\n",
       "      <td>Positive</td>\n",
       "    </tr>\n",
       "    <tr>\n",
       "      <th>431999</th>\n",
       "      <td>Tech Trends</td>\n",
       "      <td>Episode 21</td>\n",
       "      <td>13.72000</td>\n",
       "      <td>Technology</td>\n",
       "      <td>68.60</td>\n",
       "      <td>Saturday</td>\n",
       "      <td>Afternoon</td>\n",
       "      <td>65.77</td>\n",
       "      <td>3.0</td>\n",
       "      <td>Negative</td>\n",
       "    </tr>\n",
       "    <tr>\n",
       "      <th>529211</th>\n",
       "      <td>Laugh Line</td>\n",
       "      <td>Episode 99</td>\n",
       "      <td>24.00000</td>\n",
       "      <td>Comedy</td>\n",
       "      <td>42.14</td>\n",
       "      <td>Saturday</td>\n",
       "      <td>Morning</td>\n",
       "      <td>41.29</td>\n",
       "      <td>0.0</td>\n",
       "      <td>Negative</td>\n",
       "    </tr>\n",
       "    <tr>\n",
       "      <th>110925</th>\n",
       "      <td>Athlete's Arena</td>\n",
       "      <td>Episode 15</td>\n",
       "      <td>94.80341</td>\n",
       "      <td>Sports</td>\n",
       "      <td>34.10</td>\n",
       "      <td>Friday</td>\n",
       "      <td>Night</td>\n",
       "      <td>53.62</td>\n",
       "      <td>0.0</td>\n",
       "      <td>Neutral</td>\n",
       "    </tr>\n",
       "  </tbody>\n",
       "</table>\n",
       "</div>"
      ],
      "text/plain": [
       "              Podcast_Name Episode_Title  Episode_Length_minutes       Genre  \\\n",
       "453635  True Crime Stories    Episode 81                94.30000  True Crime   \n",
       "11651         Learning Lab    Episode 53                82.15000   Education   \n",
       "431999         Tech Trends    Episode 21                13.72000  Technology   \n",
       "529211          Laugh Line    Episode 99                24.00000      Comedy   \n",
       "110925     Athlete's Arena    Episode 15                94.80341      Sports   \n",
       "\n",
       "        Host_Popularity_percentage Publication_Day Publication_Time  \\\n",
       "453635                       97.67          Friday        Afternoon   \n",
       "11651                        94.78        Saturday            Night   \n",
       "431999                       68.60        Saturday        Afternoon   \n",
       "529211                       42.14        Saturday          Morning   \n",
       "110925                       34.10          Friday            Night   \n",
       "\n",
       "        Guest_Popularity_percentage  Number_of_Ads Episode_Sentiment  \n",
       "453635                        53.62            2.0          Positive  \n",
       "11651                         53.62            1.0          Positive  \n",
       "431999                        65.77            3.0          Negative  \n",
       "529211                        41.29            0.0          Negative  \n",
       "110925                        53.62            0.0           Neutral  "
      ]
     },
     "execution_count": 28,
     "metadata": {},
     "output_type": "execute_result"
    }
   ],
   "source": [
    "X_train_dropped.head()"
   ]
  },
  {
   "cell_type": "code",
   "execution_count": 29,
   "id": "5b09df3c",
   "metadata": {
    "execution": {
     "iopub.execute_input": "2025-04-11T15:09:09.085578Z",
     "iopub.status.busy": "2025-04-11T15:09:09.085192Z",
     "iopub.status.idle": "2025-04-11T15:09:10.031825Z",
     "shell.execute_reply": "2025-04-11T15:09:10.031271Z"
    },
    "papermill": {
     "duration": 0.954959,
     "end_time": "2025-04-11T15:09:10.033166",
     "exception": false,
     "start_time": "2025-04-11T15:09:09.078207",
     "status": "completed"
    },
    "tags": []
   },
   "outputs": [],
   "source": [
    "X_train_encoded = X_train_dropped.copy()\n",
    "X_test_encoded = X_test_dropped.copy()\n",
    "\n",
    "from sklearn.preprocessing import LabelEncoder\n",
    "\n",
    "# Initialize the LabelEncoder\n",
    "label_encoder = LabelEncoder()\n",
    "\n",
    "# Apply label encoding to each categorical column\n",
    "categorical_columns = ['Podcast_Name', 'Episode_Title', 'Genre', 'Publication_Day', 'Publication_Time', 'Episode_Sentiment']\n",
    "for col in categorical_columns:\n",
    "    X_train_encoded[col] = label_encoder.fit_transform(X_train_encoded[col])\n",
    "    X_test_encoded[col] = label_encoder.transform(X_test_encoded[col])\n",
    "    df_test[col] = label_encoder.transform(df_test[col])"
   ]
  },
  {
   "cell_type": "code",
   "execution_count": 30,
   "id": "cf7d672d",
   "metadata": {
    "execution": {
     "iopub.execute_input": "2025-04-11T15:09:10.047628Z",
     "iopub.status.busy": "2025-04-11T15:09:10.047405Z",
     "iopub.status.idle": "2025-04-11T15:09:10.051471Z",
     "shell.execute_reply": "2025-04-11T15:09:10.050946Z"
    },
    "papermill": {
     "duration": 0.012535,
     "end_time": "2025-04-11T15:09:10.052687",
     "exception": false,
     "start_time": "2025-04-11T15:09:10.040152",
     "status": "completed"
    },
    "tags": []
   },
   "outputs": [],
   "source": [
    "df_test.set_index('id', inplace=True)"
   ]
  },
  {
   "cell_type": "code",
   "execution_count": 31,
   "id": "3b5cf70d",
   "metadata": {
    "execution": {
     "iopub.execute_input": "2025-04-11T15:09:10.068297Z",
     "iopub.status.busy": "2025-04-11T15:09:10.068052Z",
     "iopub.status.idle": "2025-04-11T15:09:10.078670Z",
     "shell.execute_reply": "2025-04-11T15:09:10.077948Z"
    },
    "papermill": {
     "duration": 0.019837,
     "end_time": "2025-04-11T15:09:10.079819",
     "exception": false,
     "start_time": "2025-04-11T15:09:10.059982",
     "status": "completed"
    },
    "tags": []
   },
   "outputs": [
    {
     "name": "stderr",
     "output_type": "stream",
     "text": [
      "/usr/local/lib/python3.11/dist-packages/pandas/io/formats/format.py:1458: RuntimeWarning: invalid value encountered in greater\n",
      "  has_large_values = (abs_vals > 1e6).any()\n",
      "/usr/local/lib/python3.11/dist-packages/pandas/io/formats/format.py:1459: RuntimeWarning: invalid value encountered in less\n",
      "  has_small_values = ((abs_vals < 10 ** (-self.digits)) & (abs_vals > 0)).any()\n",
      "/usr/local/lib/python3.11/dist-packages/pandas/io/formats/format.py:1459: RuntimeWarning: invalid value encountered in greater\n",
      "  has_small_values = ((abs_vals < 10 ** (-self.digits)) & (abs_vals > 0)).any()\n"
     ]
    },
    {
     "data": {
      "text/html": [
       "<div>\n",
       "<style scoped>\n",
       "    .dataframe tbody tr th:only-of-type {\n",
       "        vertical-align: middle;\n",
       "    }\n",
       "\n",
       "    .dataframe tbody tr th {\n",
       "        vertical-align: top;\n",
       "    }\n",
       "\n",
       "    .dataframe thead th {\n",
       "        text-align: right;\n",
       "    }\n",
       "</style>\n",
       "<table border=\"1\" class=\"dataframe\">\n",
       "  <thead>\n",
       "    <tr style=\"text-align: right;\">\n",
       "      <th></th>\n",
       "      <th>Podcast_Name</th>\n",
       "      <th>Episode_Title</th>\n",
       "      <th>Episode_Length_minutes</th>\n",
       "      <th>Genre</th>\n",
       "      <th>Host_Popularity_percentage</th>\n",
       "      <th>Publication_Day</th>\n",
       "      <th>Publication_Time</th>\n",
       "      <th>Guest_Popularity_percentage</th>\n",
       "      <th>Number_of_Ads</th>\n",
       "      <th>Episode_Sentiment</th>\n",
       "    </tr>\n",
       "    <tr>\n",
       "      <th>id</th>\n",
       "      <th></th>\n",
       "      <th></th>\n",
       "      <th></th>\n",
       "      <th></th>\n",
       "      <th></th>\n",
       "      <th></th>\n",
       "      <th></th>\n",
       "      <th></th>\n",
       "      <th></th>\n",
       "      <th></th>\n",
       "    </tr>\n",
       "  </thead>\n",
       "  <tbody>\n",
       "    <tr>\n",
       "      <th>750000</th>\n",
       "      <td>11</td>\n",
       "      <td>71</td>\n",
       "      <td>78.96</td>\n",
       "      <td>2</td>\n",
       "      <td>38.11</td>\n",
       "      <td>2</td>\n",
       "      <td>1</td>\n",
       "      <td>53.33</td>\n",
       "      <td>1.0</td>\n",
       "      <td>1</td>\n",
       "    </tr>\n",
       "    <tr>\n",
       "      <th>750001</th>\n",
       "      <td>36</td>\n",
       "      <td>16</td>\n",
       "      <td>27.87</td>\n",
       "      <td>5</td>\n",
       "      <td>71.29</td>\n",
       "      <td>3</td>\n",
       "      <td>2</td>\n",
       "      <td>NaN</td>\n",
       "      <td>0.0</td>\n",
       "      <td>1</td>\n",
       "    </tr>\n",
       "    <tr>\n",
       "      <th>750002</th>\n",
       "      <td>24</td>\n",
       "      <td>3</td>\n",
       "      <td>69.10</td>\n",
       "      <td>1</td>\n",
       "      <td>67.89</td>\n",
       "      <td>0</td>\n",
       "      <td>1</td>\n",
       "      <td>97.51</td>\n",
       "      <td>0.0</td>\n",
       "      <td>2</td>\n",
       "    </tr>\n",
       "    <tr>\n",
       "      <th>750003</th>\n",
       "      <td>4</td>\n",
       "      <td>71</td>\n",
       "      <td>115.39</td>\n",
       "      <td>1</td>\n",
       "      <td>23.40</td>\n",
       "      <td>3</td>\n",
       "      <td>2</td>\n",
       "      <td>51.75</td>\n",
       "      <td>2.0</td>\n",
       "      <td>2</td>\n",
       "    </tr>\n",
       "    <tr>\n",
       "      <th>750004</th>\n",
       "      <td>27</td>\n",
       "      <td>46</td>\n",
       "      <td>72.32</td>\n",
       "      <td>4</td>\n",
       "      <td>58.10</td>\n",
       "      <td>6</td>\n",
       "      <td>2</td>\n",
       "      <td>11.30</td>\n",
       "      <td>2.0</td>\n",
       "      <td>1</td>\n",
       "    </tr>\n",
       "  </tbody>\n",
       "</table>\n",
       "</div>"
      ],
      "text/plain": [
       "        Podcast_Name  Episode_Title  Episode_Length_minutes  Genre  \\\n",
       "id                                                                   \n",
       "750000            11             71                   78.96      2   \n",
       "750001            36             16                   27.87      5   \n",
       "750002            24              3                   69.10      1   \n",
       "750003             4             71                  115.39      1   \n",
       "750004            27             46                   72.32      4   \n",
       "\n",
       "        Host_Popularity_percentage  Publication_Day  Publication_Time  \\\n",
       "id                                                                      \n",
       "750000                       38.11                2                 1   \n",
       "750001                       71.29                3                 2   \n",
       "750002                       67.89                0                 1   \n",
       "750003                       23.40                3                 2   \n",
       "750004                       58.10                6                 2   \n",
       "\n",
       "        Guest_Popularity_percentage  Number_of_Ads  Episode_Sentiment  \n",
       "id                                                                     \n",
       "750000                        53.33            1.0                  1  \n",
       "750001                          NaN            0.0                  1  \n",
       "750002                        97.51            0.0                  2  \n",
       "750003                        51.75            2.0                  2  \n",
       "750004                        11.30            2.0                  1  "
      ]
     },
     "execution_count": 31,
     "metadata": {},
     "output_type": "execute_result"
    }
   ],
   "source": [
    "df_test.head()"
   ]
  },
  {
   "cell_type": "markdown",
   "id": "39984c24",
   "metadata": {
    "papermill": {
     "duration": 0.007206,
     "end_time": "2025-04-11T15:09:10.094597",
     "exception": false,
     "start_time": "2025-04-11T15:09:10.087391",
     "status": "completed"
    },
    "tags": []
   },
   "source": [
    "## Model XGBoost"
   ]
  },
  {
   "cell_type": "code",
   "execution_count": 32,
   "id": "d4552e1b",
   "metadata": {
    "execution": {
     "iopub.execute_input": "2025-04-11T15:09:10.109846Z",
     "iopub.status.busy": "2025-04-11T15:09:10.109667Z",
     "iopub.status.idle": "2025-04-11T15:09:39.860214Z",
     "shell.execute_reply": "2025-04-11T15:09:39.859493Z"
    },
    "papermill": {
     "duration": 29.759495,
     "end_time": "2025-04-11T15:09:39.861397",
     "exception": false,
     "start_time": "2025-04-11T15:09:10.101902",
     "status": "completed"
    },
    "tags": []
   },
   "outputs": [
    {
     "name": "stdout",
     "output_type": "stream",
     "text": [
      "[0]\tvalidation_0-rmse:26.01063\tvalidation_1-rmse:25.99620\n",
      "[100]\tvalidation_0-rmse:10.76903\tvalidation_1-rmse:10.82527\n",
      "[200]\tvalidation_0-rmse:10.64446\tvalidation_1-rmse:10.78020\n",
      "[300]\tvalidation_0-rmse:10.55298\tvalidation_1-rmse:10.75646\n",
      "[400]\tvalidation_0-rmse:10.46661\tvalidation_1-rmse:10.74010\n",
      "[500]\tvalidation_0-rmse:10.39137\tvalidation_1-rmse:10.72647\n",
      "[600]\tvalidation_0-rmse:10.32100\tvalidation_1-rmse:10.71534\n",
      "[700]\tvalidation_0-rmse:10.25238\tvalidation_1-rmse:10.70468\n",
      "[800]\tvalidation_0-rmse:10.19437\tvalidation_1-rmse:10.69687\n",
      "[900]\tvalidation_0-rmse:10.13189\tvalidation_1-rmse:10.69092\n",
      "[1000]\tvalidation_0-rmse:10.07512\tvalidation_1-rmse:10.68423\n",
      "[1100]\tvalidation_0-rmse:10.01643\tvalidation_1-rmse:10.67854\n",
      "[1200]\tvalidation_0-rmse:9.96127\tvalidation_1-rmse:10.67364\n",
      "[1300]\tvalidation_0-rmse:9.90624\tvalidation_1-rmse:10.66937\n",
      "[1400]\tvalidation_0-rmse:9.85396\tvalidation_1-rmse:10.66633\n",
      "[1500]\tvalidation_0-rmse:9.80953\tvalidation_1-rmse:10.66307\n",
      "[1600]\tvalidation_0-rmse:9.76338\tvalidation_1-rmse:10.65975\n",
      "[1700]\tvalidation_0-rmse:9.71831\tvalidation_1-rmse:10.65687\n",
      "[1800]\tvalidation_0-rmse:9.67038\tvalidation_1-rmse:10.65399\n",
      "[1900]\tvalidation_0-rmse:9.62765\tvalidation_1-rmse:10.65165\n",
      "[2000]\tvalidation_0-rmse:9.58448\tvalidation_1-rmse:10.64950\n",
      "[2100]\tvalidation_0-rmse:9.54107\tvalidation_1-rmse:10.64656\n",
      "[2200]\tvalidation_0-rmse:9.49868\tvalidation_1-rmse:10.64364\n",
      "[2300]\tvalidation_0-rmse:9.45707\tvalidation_1-rmse:10.64149\n",
      "[2400]\tvalidation_0-rmse:9.42195\tvalidation_1-rmse:10.64079\n",
      "[2500]\tvalidation_0-rmse:9.38302\tvalidation_1-rmse:10.63798\n",
      "[2600]\tvalidation_0-rmse:9.34486\tvalidation_1-rmse:10.63562\n",
      "[2700]\tvalidation_0-rmse:9.30537\tvalidation_1-rmse:10.63383\n",
      "[2800]\tvalidation_0-rmse:9.26832\tvalidation_1-rmse:10.63186\n",
      "[2900]\tvalidation_0-rmse:9.23100\tvalidation_1-rmse:10.63062\n",
      "[3000]\tvalidation_0-rmse:9.19405\tvalidation_1-rmse:10.62924\n",
      "[3100]\tvalidation_0-rmse:9.16028\tvalidation_1-rmse:10.62779\n",
      "[3200]\tvalidation_0-rmse:9.12110\tvalidation_1-rmse:10.62581\n",
      "[3300]\tvalidation_0-rmse:9.08051\tvalidation_1-rmse:10.62539\n",
      "[3400]\tvalidation_0-rmse:9.03994\tvalidation_1-rmse:10.62338\n",
      "[3500]\tvalidation_0-rmse:9.00238\tvalidation_1-rmse:10.62322\n",
      "[3600]\tvalidation_0-rmse:8.96550\tvalidation_1-rmse:10.62227\n",
      "[3700]\tvalidation_0-rmse:8.93189\tvalidation_1-rmse:10.62219\n",
      "[3800]\tvalidation_0-rmse:8.89872\tvalidation_1-rmse:10.62239\n",
      "[3866]\tvalidation_0-rmse:8.87266\tvalidation_1-rmse:10.62132\n"
     ]
    },
    {
     "data": {
      "text/html": [
       "<style>#sk-container-id-1 {color: black;background-color: white;}#sk-container-id-1 pre{padding: 0;}#sk-container-id-1 div.sk-toggleable {background-color: white;}#sk-container-id-1 label.sk-toggleable__label {cursor: pointer;display: block;width: 100%;margin-bottom: 0;padding: 0.3em;box-sizing: border-box;text-align: center;}#sk-container-id-1 label.sk-toggleable__label-arrow:before {content: \"▸\";float: left;margin-right: 0.25em;color: #696969;}#sk-container-id-1 label.sk-toggleable__label-arrow:hover:before {color: black;}#sk-container-id-1 div.sk-estimator:hover label.sk-toggleable__label-arrow:before {color: black;}#sk-container-id-1 div.sk-toggleable__content {max-height: 0;max-width: 0;overflow: hidden;text-align: left;background-color: #f0f8ff;}#sk-container-id-1 div.sk-toggleable__content pre {margin: 0.2em;color: black;border-radius: 0.25em;background-color: #f0f8ff;}#sk-container-id-1 input.sk-toggleable__control:checked~div.sk-toggleable__content {max-height: 200px;max-width: 100%;overflow: auto;}#sk-container-id-1 input.sk-toggleable__control:checked~label.sk-toggleable__label-arrow:before {content: \"▾\";}#sk-container-id-1 div.sk-estimator input.sk-toggleable__control:checked~label.sk-toggleable__label {background-color: #d4ebff;}#sk-container-id-1 div.sk-label input.sk-toggleable__control:checked~label.sk-toggleable__label {background-color: #d4ebff;}#sk-container-id-1 input.sk-hidden--visually {border: 0;clip: rect(1px 1px 1px 1px);clip: rect(1px, 1px, 1px, 1px);height: 1px;margin: -1px;overflow: hidden;padding: 0;position: absolute;width: 1px;}#sk-container-id-1 div.sk-estimator {font-family: monospace;background-color: #f0f8ff;border: 1px dotted black;border-radius: 0.25em;box-sizing: border-box;margin-bottom: 0.5em;}#sk-container-id-1 div.sk-estimator:hover {background-color: #d4ebff;}#sk-container-id-1 div.sk-parallel-item::after {content: \"\";width: 100%;border-bottom: 1px solid gray;flex-grow: 1;}#sk-container-id-1 div.sk-label:hover label.sk-toggleable__label {background-color: #d4ebff;}#sk-container-id-1 div.sk-serial::before {content: \"\";position: absolute;border-left: 1px solid gray;box-sizing: border-box;top: 0;bottom: 0;left: 50%;z-index: 0;}#sk-container-id-1 div.sk-serial {display: flex;flex-direction: column;align-items: center;background-color: white;padding-right: 0.2em;padding-left: 0.2em;position: relative;}#sk-container-id-1 div.sk-item {position: relative;z-index: 1;}#sk-container-id-1 div.sk-parallel {display: flex;align-items: stretch;justify-content: center;background-color: white;position: relative;}#sk-container-id-1 div.sk-item::before, #sk-container-id-1 div.sk-parallel-item::before {content: \"\";position: absolute;border-left: 1px solid gray;box-sizing: border-box;top: 0;bottom: 0;left: 50%;z-index: -1;}#sk-container-id-1 div.sk-parallel-item {display: flex;flex-direction: column;z-index: 1;position: relative;background-color: white;}#sk-container-id-1 div.sk-parallel-item:first-child::after {align-self: flex-end;width: 50%;}#sk-container-id-1 div.sk-parallel-item:last-child::after {align-self: flex-start;width: 50%;}#sk-container-id-1 div.sk-parallel-item:only-child::after {width: 0;}#sk-container-id-1 div.sk-dashed-wrapped {border: 1px dashed gray;margin: 0 0.4em 0.5em 0.4em;box-sizing: border-box;padding-bottom: 0.4em;background-color: white;}#sk-container-id-1 div.sk-label label {font-family: monospace;font-weight: bold;display: inline-block;line-height: 1.2em;}#sk-container-id-1 div.sk-label-container {text-align: center;}#sk-container-id-1 div.sk-container {/* jupyter's `normalize.less` sets `[hidden] { display: none; }` but bootstrap.min.css set `[hidden] { display: none !important; }` so we also need the `!important` here to be able to override the default hidden behavior on the sphinx rendered scikit-learn.org. See: https://github.com/scikit-learn/scikit-learn/issues/21755 */display: inline-block !important;position: relative;}#sk-container-id-1 div.sk-text-repr-fallback {display: none;}</style><div id=\"sk-container-id-1\" class=\"sk-top-container\"><div class=\"sk-text-repr-fallback\"><pre>XGBRegressor(base_score=None, booster=None, callbacks=None,\n",
       "             colsample_bylevel=None, colsample_bynode=None,\n",
       "             colsample_bytree=None, device=&#x27;cuda&#x27;, early_stopping_rounds=100,\n",
       "             enable_categorical=False, eval_metric=None, feature_types=None,\n",
       "             gamma=None, grow_policy=None, importance_type=None,\n",
       "             interaction_constraints=None, learning_rate=0.05, max_bin=None,\n",
       "             max_cat_threshold=None, max_cat_to_onehot=None,\n",
       "             max_delta_step=None, max_depth=7, max_leaves=None,\n",
       "             min_child_weight=None, missing=nan, monotone_constraints=None,\n",
       "             multi_strategy=None, n_estimators=18000, n_jobs=None,\n",
       "             num_parallel_tree=None, random_state=42, ...)</pre><b>In a Jupyter environment, please rerun this cell to show the HTML representation or trust the notebook. <br />On GitHub, the HTML representation is unable to render, please try loading this page with nbviewer.org.</b></div><div class=\"sk-container\" hidden><div class=\"sk-item\"><div class=\"sk-estimator sk-toggleable\"><input class=\"sk-toggleable__control sk-hidden--visually\" id=\"sk-estimator-id-1\" type=\"checkbox\" checked><label for=\"sk-estimator-id-1\" class=\"sk-toggleable__label sk-toggleable__label-arrow\">XGBRegressor</label><div class=\"sk-toggleable__content\"><pre>XGBRegressor(base_score=None, booster=None, callbacks=None,\n",
       "             colsample_bylevel=None, colsample_bynode=None,\n",
       "             colsample_bytree=None, device=&#x27;cuda&#x27;, early_stopping_rounds=100,\n",
       "             enable_categorical=False, eval_metric=None, feature_types=None,\n",
       "             gamma=None, grow_policy=None, importance_type=None,\n",
       "             interaction_constraints=None, learning_rate=0.05, max_bin=None,\n",
       "             max_cat_threshold=None, max_cat_to_onehot=None,\n",
       "             max_delta_step=None, max_depth=7, max_leaves=None,\n",
       "             min_child_weight=None, missing=nan, monotone_constraints=None,\n",
       "             multi_strategy=None, n_estimators=18000, n_jobs=None,\n",
       "             num_parallel_tree=None, random_state=42, ...)</pre></div></div></div></div></div>"
      ],
      "text/plain": [
       "XGBRegressor(base_score=None, booster=None, callbacks=None,\n",
       "             colsample_bylevel=None, colsample_bynode=None,\n",
       "             colsample_bytree=None, device='cuda', early_stopping_rounds=100,\n",
       "             enable_categorical=False, eval_metric=None, feature_types=None,\n",
       "             gamma=None, grow_policy=None, importance_type=None,\n",
       "             interaction_constraints=None, learning_rate=0.05, max_bin=None,\n",
       "             max_cat_threshold=None, max_cat_to_onehot=None,\n",
       "             max_delta_step=None, max_depth=7, max_leaves=None,\n",
       "             min_child_weight=None, missing=nan, monotone_constraints=None,\n",
       "             multi_strategy=None, n_estimators=18000, n_jobs=None,\n",
       "             num_parallel_tree=None, random_state=42, ...)"
      ]
     },
     "execution_count": 32,
     "metadata": {},
     "output_type": "execute_result"
    }
   ],
   "source": [
    "import xgboost as xgb\n",
    "from xgboost import XGBRegressor\n",
    "\n",
    "model_xgb = XGBRegressor(objective='reg:squarederror', n_estimators=18000, learning_rate=0.05, max_depth=7, random_state=42, device=\"cuda\", early_stopping_rounds=100)\n",
    "model_xgb.fit(X_train_encoded, y_train_initial, eval_set=[(X_train_encoded, y_train_initial), (X_test_encoded, y_test_initial)], verbose=100)"
   ]
  },
  {
   "cell_type": "code",
   "execution_count": 33,
   "id": "cbf277f9",
   "metadata": {
    "execution": {
     "iopub.execute_input": "2025-04-11T15:09:39.879101Z",
     "iopub.status.busy": "2025-04-11T15:09:39.878866Z",
     "iopub.status.idle": "2025-04-11T15:09:40.158036Z",
     "shell.execute_reply": "2025-04-11T15:09:40.157208Z"
    },
    "papermill": {
     "duration": 0.289204,
     "end_time": "2025-04-11T15:09:40.159367",
     "exception": false,
     "start_time": "2025-04-11T15:09:39.870163",
     "status": "completed"
    },
    "tags": []
   },
   "outputs": [
    {
     "name": "stderr",
     "output_type": "stream",
     "text": [
      "/usr/local/lib/python3.11/dist-packages/xgboost/core.py:160: UserWarning: [15:09:39] WARNING: /workspace/src/common/error_msg.cc:58: Falling back to prediction using DMatrix due to mismatched devices. This might lead to higher memory usage and slower performance. XGBoost is running on: cuda:0, while the input data is on: cpu.\n",
      "Potential solutions:\n",
      "- Use a data structure that matches the device ordinal in the booster.\n",
      "- Set the device for booster before call to inplace_predict.\n",
      "\n",
      "This warning will only be shown once.\n",
      "\n",
      "  warnings.warn(smsg, UserWarning)\n"
     ]
    }
   ],
   "source": [
    "#df_test.to_device(\"cuda\")\n",
    "df_submission['Listening_Time_minutes'] = model_xgb.predict(df_test)"
   ]
  },
  {
   "cell_type": "code",
   "execution_count": 34,
   "id": "06635b10",
   "metadata": {
    "execution": {
     "iopub.execute_input": "2025-04-11T15:09:40.177324Z",
     "iopub.status.busy": "2025-04-11T15:09:40.177107Z",
     "iopub.status.idle": "2025-04-11T15:09:40.184243Z",
     "shell.execute_reply": "2025-04-11T15:09:40.183471Z"
    },
    "papermill": {
     "duration": 0.017323,
     "end_time": "2025-04-11T15:09:40.185456",
     "exception": false,
     "start_time": "2025-04-11T15:09:40.168133",
     "status": "completed"
    },
    "tags": []
   },
   "outputs": [
    {
     "data": {
      "text/html": [
       "<div>\n",
       "<style scoped>\n",
       "    .dataframe tbody tr th:only-of-type {\n",
       "        vertical-align: middle;\n",
       "    }\n",
       "\n",
       "    .dataframe tbody tr th {\n",
       "        vertical-align: top;\n",
       "    }\n",
       "\n",
       "    .dataframe thead th {\n",
       "        text-align: right;\n",
       "    }\n",
       "</style>\n",
       "<table border=\"1\" class=\"dataframe\">\n",
       "  <thead>\n",
       "    <tr style=\"text-align: right;\">\n",
       "      <th></th>\n",
       "      <th>id</th>\n",
       "      <th>Listening_Time_minutes</th>\n",
       "    </tr>\n",
       "  </thead>\n",
       "  <tbody>\n",
       "    <tr>\n",
       "      <th>0</th>\n",
       "      <td>750000</td>\n",
       "      <td>56.981491</td>\n",
       "    </tr>\n",
       "    <tr>\n",
       "      <th>1</th>\n",
       "      <td>750001</td>\n",
       "      <td>23.646561</td>\n",
       "    </tr>\n",
       "    <tr>\n",
       "      <th>2</th>\n",
       "      <td>750002</td>\n",
       "      <td>50.227337</td>\n",
       "    </tr>\n",
       "    <tr>\n",
       "      <th>3</th>\n",
       "      <td>750003</td>\n",
       "      <td>73.622498</td>\n",
       "    </tr>\n",
       "    <tr>\n",
       "      <th>4</th>\n",
       "      <td>750004</td>\n",
       "      <td>47.594067</td>\n",
       "    </tr>\n",
       "  </tbody>\n",
       "</table>\n",
       "</div>"
      ],
      "text/plain": [
       "       id  Listening_Time_minutes\n",
       "0  750000               56.981491\n",
       "1  750001               23.646561\n",
       "2  750002               50.227337\n",
       "3  750003               73.622498\n",
       "4  750004               47.594067"
      ]
     },
     "execution_count": 34,
     "metadata": {},
     "output_type": "execute_result"
    }
   ],
   "source": [
    "df_submission.head()"
   ]
  },
  {
   "cell_type": "code",
   "execution_count": 35,
   "id": "9c862efd",
   "metadata": {
    "execution": {
     "iopub.execute_input": "2025-04-11T15:09:40.205311Z",
     "iopub.status.busy": "2025-04-11T15:09:40.205085Z",
     "iopub.status.idle": "2025-04-11T15:09:40.530573Z",
     "shell.execute_reply": "2025-04-11T15:09:40.529775Z"
    },
    "papermill": {
     "duration": 0.336948,
     "end_time": "2025-04-11T15:09:40.531930",
     "exception": false,
     "start_time": "2025-04-11T15:09:40.194982",
     "status": "completed"
    },
    "tags": []
   },
   "outputs": [],
   "source": [
    "df_submission.to_csv('submission10.762.csv', index=False)\n"
   ]
  }
 ],
 "metadata": {
  "kaggle": {
   "accelerator": "nvidiaTeslaT4",
   "dataSources": [
    {
     "databundleVersionId": 11351736,
     "sourceId": 91715,
     "sourceType": "competition"
    }
   ],
   "dockerImageVersionId": 31011,
   "isGpuEnabled": true,
   "isInternetEnabled": true,
   "language": "python",
   "sourceType": "notebook"
  },
  "kernelspec": {
   "display_name": "Python 3",
   "language": "python",
   "name": "python3"
  },
  "language_info": {
   "codemirror_mode": {
    "name": "ipython",
    "version": 3
   },
   "file_extension": ".py",
   "mimetype": "text/x-python",
   "name": "python",
   "nbconvert_exporter": "python",
   "pygments_lexer": "ipython3",
   "version": "3.11.11"
  },
  "papermill": {
   "default_parameters": {},
   "duration": 62.442887,
   "end_time": "2025-04-11T15:09:41.058699",
   "environment_variables": {},
   "exception": null,
   "input_path": "__notebook__.ipynb",
   "output_path": "__notebook__.ipynb",
   "parameters": {},
   "start_time": "2025-04-11T15:08:38.615812",
   "version": "2.6.0"
  }
 },
 "nbformat": 4,
 "nbformat_minor": 5
}
